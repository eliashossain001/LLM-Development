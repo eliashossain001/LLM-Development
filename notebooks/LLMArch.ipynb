{
 "cells": [
  {
   "cell_type": "code",
   "execution_count": null,
   "id": "dfcdea72",
   "metadata": {},
   "outputs": [],
   "source": []
  },
  {
   "cell_type": "markdown",
   "id": "de2ce6e6",
   "metadata": {},
   "source": [
    "### Implementing GPT Model from Scratch"
   ]
  },
  {
   "cell_type": "markdown",
   "id": "71f0a893",
   "metadata": {},
   "source": [
    "The smallest GPT-2 model (117 million parameters) has 12 attention heads and a context vector embedding size of 768. The largest GPT-2 model (1.5 billion parameters) has 25 attention heads and a context vector embedding size of 1600. Note that the embedding sizes of the token inputs and context embeddings are the same in GPT models (d_in = d_out)."
   ]
  },
  {
   "cell_type": "code",
   "execution_count": 40,
   "id": "3de9e04a",
   "metadata": {},
   "outputs": [],
   "source": [
    "LLM_SETTINGS_124M = {\n",
    "    \"token_count\": 50257,   # Vocabulary size\n",
    "    \"seq_length\": 1024,     # Context length\n",
    "    \"embed_size\": 768,      # Embedding dimension\n",
    "    \"attn_heads\": 12,       # Number of attention heads\n",
    "    \"num_layers\": 12,       # Number of layers\n",
    "    \"dropout_prob\": 0.1,    # Dropout rate\n",
    "    \"use_qkv_bias\": False   # Query-Key-Value bias\n",
    "}"
   ]
  },
  {
   "cell_type": "markdown",
   "id": "91bda6d7",
   "metadata": {},
   "source": [
    "### DUMMY GPT MODEL CLASS"
   ]
  },
  {
   "cell_type": "code",
   "execution_count": 41,
   "id": "bcb7ead8",
   "metadata": {},
   "outputs": [],
   "source": [
    "import torch\n",
    "import torch.nn as nn\n",
    "\n",
    "\n",
    "class MockGPTModel(nn.Module):\n",
    "    def __init__(self, config):\n",
    "        super().__init__()\n",
    "        self.token_embed = nn.Embedding(config[\"token_count\"], config[\"embed_size\"])\n",
    "        self.position_embed = nn.Embedding(config[\"seq_length\"], config[\"embed_size\"])\n",
    "        self.embed_dropout = nn.Dropout(config[\"dropout_prob\"])\n",
    "        \n",
    "        # Placeholder for Transformer Block\n",
    "        self.transformer_layers = nn.Sequential(\n",
    "            *[MockTransformerLayer(config) for _ in range(config[\"num_layers\"])]\n",
    "        )\n",
    "        \n",
    "        # Placeholder for LayerNorm\n",
    "        self.norm_layer = MockLayerNorm(config[\"embed_size\"])\n",
    "        self.output_layer = nn.Linear(\n",
    "            config[\"embed_size\"], config[\"token_count\"], bias=False\n",
    "        )\n",
    "\n",
    "    def forward(self, input_idx):\n",
    "        batch_size, seq_len = input_idx.shape\n",
    "        token_embeddings = self.token_embed(input_idx)\n",
    "        position_embeddings = self.position_embed(torch.arange(seq_len, device=input_idx.device))\n",
    "        x = token_embeddings + position_embeddings\n",
    "        x = self.embed_dropout(x)\n",
    "        x = self.transformer_layers(x)\n",
    "        x = self.norm_layer(x)\n",
    "        logits = self.output_layer(x)\n",
    "        return logits\n",
    "\n",
    "\n",
    "class MockTransformerLayer(nn.Module):\n",
    "    def __init__(self, config):\n",
    "        super().__init__()\n",
    "        # Placeholder implementation\n",
    "\n",
    "    def forward(self, x):\n",
    "        # This block does nothing and just returns its input.\n",
    "        return x\n",
    "\n",
    "\n",
    "class MockLayerNorm(nn.Module):\n",
    "    def __init__(self, norm_shape, epsilon=1e-5):\n",
    "        super().__init__()\n",
    "        # Placeholder for LayerNorm interface\n",
    "\n",
    "    def forward(self, x):\n",
    "        # This layer does nothing and just returns its input.\n",
    "        return x\n"
   ]
  },
  {
   "cell_type": "markdown",
   "id": "53994900",
   "metadata": {},
   "source": [
    "Let's prepare the input data and initialize the new GPT model"
   ]
  },
  {
   "cell_type": "markdown",
   "id": "10a6add5",
   "metadata": {},
   "source": [
    "### Step 1: Tokenization"
   ]
  },
  {
   "cell_type": "code",
   "execution_count": 43,
   "id": "caf4a125",
   "metadata": {},
   "outputs": [
    {
     "name": "stdout",
     "output_type": "stream",
     "text": [
      "tensor([[6109, 3626, 6100,  345],\n",
      "        [6109, 1110, 6622,  257]])\n"
     ]
    }
   ],
   "source": [
    "import tiktoken\n",
    "import torch\n",
    "\n",
    "# Initialize tokenizer\n",
    "text_encoder = tiktoken.get_encoding(\"gpt2\")\n",
    "\n",
    "# Create a list for storing tokenized sequences\n",
    "token_batches = []\n",
    "\n",
    "sentence_1 = \"Every effort moves you\"\n",
    "sentence_2 = \"Every day holds a\"\n",
    "\n",
    "# Tokenizing and appending to the batch\n",
    "token_batches.append(torch.tensor(text_encoder.encode(sentence_1)))\n",
    "token_batches.append(torch.tensor(text_encoder.encode(sentence_2)))\n",
    "\n",
    "# Stack tensors along dimension 0\n",
    "token_batches = torch.stack(token_batches, dim=0)\n",
    "\n",
    "# Print the tokenized batch\n",
    "print(token_batches)\n"
   ]
  },
  {
   "cell_type": "markdown",
   "id": "ff42b9f1",
   "metadata": {},
   "source": [
    "### Create an Instance of Dummy GPT Model"
   ]
  },
  {
   "cell_type": "code",
   "execution_count": 44,
   "id": "228125cd",
   "metadata": {},
   "outputs": [
    {
     "name": "stdout",
     "output_type": "stream",
     "text": [
      "Output shape: torch.Size([2, 4, 50257])\n",
      "tensor([[[-0.9289,  0.2748, -0.7557,  ..., -1.6070,  0.2702, -0.5888],\n",
      "         [-0.4476,  0.1726,  0.5354,  ..., -0.3932,  1.5285,  0.8557],\n",
      "         [ 0.5680,  1.6053, -0.2155,  ...,  1.1624,  0.1380,  0.7425],\n",
      "         [ 0.0447,  2.4787, -0.8843,  ...,  1.3219, -0.0864, -0.5856]],\n",
      "\n",
      "        [[-1.5474, -0.0542, -1.0571,  ..., -1.8061, -0.4494, -0.6747],\n",
      "         [-0.8422,  0.8243, -0.1098,  ..., -0.1434,  0.2079,  1.2046],\n",
      "         [ 0.1355,  1.1858, -0.1453,  ...,  0.0869, -0.1590,  0.1552],\n",
      "         [ 0.1666, -0.8138,  0.2307,  ...,  2.5035, -0.3055, -0.3083]]],\n",
      "       grad_fn=<UnsafeViewBackward0>)\n"
     ]
    }
   ],
   "source": [
    "torch.manual_seed(123)\n",
    "mock_model = MockGPTModel(LLM_SETTINGS_124M)\n",
    "output_logits = mock_model(token_batches)\n",
    "\n",
    "print(\"Output shape:\", output_logits.shape)\n",
    "print(output_logits)"
   ]
  },
  {
   "cell_type": "markdown",
   "id": "a4c01d12",
   "metadata": {},
   "source": [
    "### GPT ARCHITECTURE PART 2: LAYER NORMALIZATION"
   ]
  },
  {
   "cell_type": "code",
   "execution_count": 45,
   "id": "f7074611",
   "metadata": {},
   "outputs": [
    {
     "name": "stdout",
     "output_type": "stream",
     "text": [
      "tensor([[0.2260, 0.3470, 0.0000, 0.2216, 0.0000, 0.0000],\n",
      "        [0.2133, 0.2394, 0.0000, 0.5198, 0.3297, 0.0000]],\n",
      "       grad_fn=<ReluBackward0>)\n"
     ]
    }
   ],
   "source": [
    "torch.manual_seed(123)\n",
    "\n",
    "# Create a random input tensor\n",
    "sample_input = torch.randn(2, 5)  # A\n",
    "\n",
    "# Define a simple neural network layer\n",
    "neural_layer = nn.Sequential(nn.Linear(5, 6), nn.ReLU())\n",
    "\n",
    "# Pass the input through the layer\n",
    "output_result = neural_layer(sample_input)\n",
    "\n",
    "# Print the output\n",
    "print(output_result)"
   ]
  },
  {
   "cell_type": "markdown",
   "id": "abc7ba0f",
   "metadata": {},
   "source": [
    "Before implementing the layer normalization, we shall apply the mean variance of the output vectors"
   ]
  },
  {
   "cell_type": "code",
   "execution_count": 46,
   "id": "4aed1522",
   "metadata": {},
   "outputs": [
    {
     "name": "stdout",
     "output_type": "stream",
     "text": [
      "Mean:\n",
      " tensor([[0.1324],\n",
      "        [0.2170]], grad_fn=<MeanBackward1>)\n",
      "Variance:\n",
      " tensor([[0.0231],\n",
      "        [0.0398]], grad_fn=<VarBackward0>)\n"
     ]
    }
   ],
   "source": [
    "# Compute mean along the last dimension\n",
    "output_mean = output_result.mean(dim=-1, keepdim=True)\n",
    "\n",
    "# Compute variance along the last dimension\n",
    "output_variance = output_result.var(dim=-1, keepdim=True)\n",
    "\n",
    "# Print mean and variance\n",
    "print(\"Mean:\\n\", output_mean)\n",
    "print(\"Variance:\\n\", output_variance)"
   ]
  },
  {
   "cell_type": "markdown",
   "id": "5d168989",
   "metadata": {},
   "source": [
    "Next, let us apply layer normalization to the layer outputs we obtained earlier. The operation consists of subtracting the mean and dividing by the square root of the variance (also known as standard deviation):"
   ]
  },
  {
   "cell_type": "code",
   "execution_count": 47,
   "id": "e0b94c80",
   "metadata": {},
   "outputs": [
    {
     "name": "stdout",
     "output_type": "stream",
     "text": [
      "Normalized layer outputs:\n",
      " tensor([[ 0.6159,  1.4126, -0.8719,  0.5872, -0.8719, -0.8719],\n",
      "        [-0.0189,  0.1121, -1.0876,  1.5173,  0.5647, -1.0876]],\n",
      "       grad_fn=<DivBackward0>)\n",
      "Mean:\n",
      " tensor([[    0.0000],\n",
      "        [    0.0000]], grad_fn=<MeanBackward1>)\n",
      "Variance:\n",
      " tensor([[1.0000],\n",
      "        [1.0000]], grad_fn=<VarBackward0>)\n"
     ]
    }
   ],
   "source": [
    "# Normalize the output\n",
    "normalized_output = (output_result - output_mean) / torch.sqrt(output_variance)\n",
    "\n",
    "# Compute mean and variance of the normalized output\n",
    "normalized_mean = normalized_output.mean(dim=-1, keepdim=True)\n",
    "normalized_variance = normalized_output.var(dim=-1, keepdim=True)\n",
    "\n",
    "# Print results\n",
    "print(\"Normalized layer outputs:\\n\", normalized_output)\n",
    "print(\"Mean:\\n\", normalized_mean)\n",
    "print(\"Variance:\\n\", normalized_variance)"
   ]
  },
  {
   "cell_type": "markdown",
   "id": "6fafcfbd",
   "metadata": {},
   "source": [
    "To improve readability, we can also turn off the scientific notation when printing tensor values by setting sci_mode to False:"
   ]
  },
  {
   "cell_type": "code",
   "execution_count": 48,
   "id": "1eec1925",
   "metadata": {},
   "outputs": [
    {
     "name": "stdout",
     "output_type": "stream",
     "text": [
      "Mean:\n",
      " tensor([[    0.0000],\n",
      "        [    0.0000]], grad_fn=<MeanBackward1>)\n",
      "Variance:\n",
      " tensor([[1.0000],\n",
      "        [1.0000]], grad_fn=<VarBackward0>)\n"
     ]
    }
   ],
   "source": [
    "# Set print options to disable scientific notation\n",
    "torch.set_printoptions(sci_mode=False)\n",
    "\n",
    "# Print mean and variance\n",
    "print(\"Mean:\\n\", normalized_mean)\n",
    "print(\"Variance:\\n\", normalized_variance)"
   ]
  },
  {
   "cell_type": "markdown",
   "id": "a09e95e8",
   "metadata": {},
   "source": [
    "Let's now encapsulate this process in a PyTorch module that we can use in the GPT model later:"
   ]
  },
  {
   "cell_type": "code",
   "execution_count": 49,
   "id": "0ab56494",
   "metadata": {},
   "outputs": [],
   "source": [
    "import torch\n",
    "import torch.nn as nn\n",
    "\n",
    "class NormLayer(nn.Module):\n",
    "    def __init__(self, embed_size):\n",
    "        super().__init__()\n",
    "        self.epsilon = 1e-5\n",
    "        self.gain = nn.Parameter(torch.ones(embed_size))\n",
    "        self.bias = nn.Parameter(torch.zeros(embed_size))\n",
    "\n",
    "    def forward(self, x):\n",
    "        mean_val = x.mean(dim=-1, keepdim=True)\n",
    "        variance_val = x.var(dim=-1, keepdim=True, unbiased=False)\n",
    "        normalized_x = (x - mean_val) / torch.sqrt(variance_val + self.epsilon)\n",
    "        return self.gain * normalized_x + self.bias"
   ]
  },
  {
   "cell_type": "markdown",
   "id": "f2075212",
   "metadata": {},
   "source": [
    "This specific implementation of layer Normalization operates on the last dimension of the input tensor x, which represents the embedding dimension (emb_dim).\n",
    "\n",
    "The variable epsilon added to the variance to prevent division by zero during normalization.\n",
    "\n",
    "The scale and shift are two trainable parameters (of the same dimension as the input) that the LLM automatically adjusts during training if it is determined that doing so would improve the model's performance on its training task.\n",
    "\n",
    "This allows the model to learn appropriate scaling and shifting that best suit the data it is processing."
   ]
  },
  {
   "cell_type": "code",
   "execution_count": 50,
   "id": "f4332482",
   "metadata": {},
   "outputs": [
    {
     "name": "stdout",
     "output_type": "stream",
     "text": [
      "Mean:\n",
      " tensor([[    -0.0000],\n",
      "        [     0.0000]], grad_fn=<MeanBackward1>)\n",
      "Variance:\n",
      " tensor([[1.0000],\n",
      "        [1.0000]], grad_fn=<VarBackward0>)\n"
     ]
    }
   ],
   "source": [
    "# Initialize the normalization layer\n",
    "norm_layer = NormLayer(embed_size=5)\n",
    "\n",
    "# Apply layer normalization\n",
    "normalized_output = norm_layer(sample_input)\n",
    "\n",
    "# Compute mean and variance of the normalized output\n",
    "normalized_mean = normalized_output.mean(dim=-1, keepdim=True)\n",
    "normalized_variance = normalized_output.var(dim=-1, unbiased=False, keepdim=True)\n",
    "\n",
    "# Print results\n",
    "print(\"Mean:\\n\", normalized_mean)\n",
    "print(\"Variance:\\n\", normalized_variance)"
   ]
  },
  {
   "cell_type": "code",
   "execution_count": null,
   "id": "93d8473a",
   "metadata": {},
   "outputs": [],
   "source": []
  },
  {
   "cell_type": "markdown",
   "id": "8f24da50",
   "metadata": {},
   "source": [
    "### GPT ARCHITECTURE PART 3: FEEDFORWARD NEURAL NETWORK WITH GELU ACTIVATION"
   ]
  },
  {
   "cell_type": "code",
   "execution_count": 52,
   "id": "da7d9f14",
   "metadata": {},
   "outputs": [],
   "source": [
    "import torch\n",
    "import torch.nn as nn\n",
    "\n",
    "class GELU(nn.Module):\n",
    "    def __init__(self):\n",
    "        super().__init__()\n",
    "\n",
    "    def forward(self, input_tensor):\n",
    "        return 0.5 * input_tensor * (1 + torch.tanh(\n",
    "            torch.sqrt(torch.tensor(2.0 / torch.pi)) * \n",
    "            (input_tensor + 0.044715 * torch.pow(input_tensor, 3))\n",
    "        ))\n"
   ]
  },
  {
   "cell_type": "code",
   "execution_count": 53,
   "id": "0435c989",
   "metadata": {},
   "outputs": [
    {
     "data": {
      "image/png": "[encoded data removed]",
      "text/plain": [
       "<Figure size 800x300 with 2 Axes>"
      ]
     },
     "metadata": {},
     "output_type": "display_data"
    }
   ],
   "source": [
    "import matplotlib.pyplot as plt\n",
    "import torch\n",
    "import torch.nn as nn\n",
    "\n",
    "# Initialize activation functions\n",
    "gelu_activation, relu_activation = GELU(), nn.ReLU()\n",
    "\n",
    "# Generate sample data\n",
    "input_values = torch.linspace(-3, 3, 100)\n",
    "output_gelu, output_relu = gelu_activation(input_values), relu_activation(input_values)\n",
    "\n",
    "# Plot the activation functions\n",
    "plt.figure(figsize=(8, 3))\n",
    "for i, (output, act_name) in enumerate(zip([output_gelu, output_relu], [\"GELU\", \"ReLU\"]), 1):\n",
    "    plt.subplot(1, 2, i)\n",
    "    plt.plot(input_values, output)\n",
    "    plt.title(f\"{act_name} Activation Function\")\n",
    "    plt.xlabel(\"Input (x)\")\n",
    "    plt.ylabel(f\"{act_name}(x)\")\n",
    "    plt.grid(True)\n",
    "\n",
    "plt.tight_layout()\n",
    "plt.show()\n"
   ]
  },
  {
   "cell_type": "markdown",
   "id": "37faa1be",
   "metadata": {},
   "source": [
    "We can see in the resulting plot, ReLU is a piecewise linear function that outputs the input directly if it is positive; otherwise, it outputs zero.\n",
    "\n",
    "GELU is a smooth, nonlinear function that approximates ReLU but with a non-zero gradient for negative values"
   ]
  },
  {
   "cell_type": "markdown",
   "id": "db9ce81b",
   "metadata": {},
   "source": [
    "Next, let's use the GELU function to implement the small neural network module, FeedForward, that we will be using in the LLM's transformer block later:"
   ]
  },
  {
   "cell_type": "code",
   "execution_count": 54,
   "id": "7e79ab03",
   "metadata": {},
   "outputs": [],
   "source": [
    "import torch\n",
    "import torch.nn as nn\n",
    "\n",
    "class MLPBlock(nn.Module):\n",
    "    def __init__(self, config):\n",
    "        super().__init__()\n",
    "        self.network = nn.Sequential(\n",
    "            nn.Linear(config[\"embed_size\"], 4 * config[\"embed_size\"]),\n",
    "            GELU(),\n",
    "            nn.Linear(4 * config[\"embed_size\"], config[\"embed_size\"]),\n",
    "        )\n",
    "\n",
    "    def forward(self, input_tensor):\n",
    "        return self.network(input_tensor)\n"
   ]
  },
  {
   "cell_type": "code",
   "execution_count": 55,
   "id": "879cbdf0",
   "metadata": {},
   "outputs": [
    {
     "name": "stdout",
     "output_type": "stream",
     "text": [
      "768\n"
     ]
    }
   ],
   "source": [
    "print(LLM_SETTINGS_124M[\"embed_size\"])"
   ]
  },
  {
   "cell_type": "code",
   "execution_count": 56,
   "id": "f54b0e75",
   "metadata": {},
   "outputs": [
    {
     "name": "stdout",
     "output_type": "stream",
     "text": [
      "torch.Size([2, 3, 768])\n"
     ]
    }
   ],
   "source": [
    "# Initialize the feedforward network with the configuration\n",
    "mlp_block = MLPBlock(LLM_SETTINGS_124M)\n",
    "\n",
    "# Create a random input tensor\n",
    "input_tensor = torch.rand(2, 3, 768)  # A\n",
    "\n",
    "# Pass the input through the feedforward network\n",
    "output_tensor = mlp_block(input_tensor)\n",
    "\n",
    "# Print the output shape\n",
    "print(output_tensor.shape)"
   ]
  },
  {
   "cell_type": "code",
   "execution_count": null,
   "id": "0cffc431",
   "metadata": {},
   "outputs": [],
   "source": []
  },
  {
   "cell_type": "markdown",
   "id": "da17d6b2",
   "metadata": {},
   "source": [
    "### GPT ARCHITECTURE PART 4: SHORTCUT CONNECTIONS"
   ]
  },
  {
   "cell_type": "code",
   "execution_count": 57,
   "id": "8daa69aa",
   "metadata": {},
   "outputs": [],
   "source": [
    "import torch\n",
    "import torch.nn as nn\n",
    "\n",
    "class DeepMLP(nn.Module):\n",
    "    def __init__(self, layer_dims, enable_skip_connection):\n",
    "        super().__init__()\n",
    "        self.enable_skip = enable_skip_connection\n",
    "        self.layers = nn.ModuleList([\n",
    "            nn.Sequential(nn.Linear(layer_dims[0], layer_dims[1]), GELU()),\n",
    "            nn.Sequential(nn.Linear(layer_dims[1], layer_dims[2]), GELU()),\n",
    "            nn.Sequential(nn.Linear(layer_dims[2], layer_dims[3]), GELU()),\n",
    "            nn.Sequential(nn.Linear(layer_dims[3], layer_dims[4]), GELU()),\n",
    "            nn.Sequential(nn.Linear(layer_dims[4], layer_dims[5]), GELU())\n",
    "        ])\n",
    "\n",
    "    def forward(self, input_tensor):\n",
    "        for layer in self.layers:\n",
    "            # Compute the output of the current layer\n",
    "            layer_output = layer(input_tensor)\n",
    "            # Apply skip connection if enabled and shapes match\n",
    "            if self.enable_skip and input_tensor.shape == layer_output.shape:\n",
    "                input_tensor = input_tensor + layer_output\n",
    "            else:\n",
    "                input_tensor = layer_output\n",
    "        return input_tensor\n"
   ]
  },
  {
   "cell_type": "markdown",
   "id": "0bd65ade",
   "metadata": {},
   "source": [
    "The code implements a deep neural network with 5 layers, each consisting of a Linear layer and a GELU activation function.\n",
    "\n",
    "In the forward pass, we iteratively pass the input through the layers and optionally add the shortcut connections if the self.use_shortcut attribute is set to True. Let's use this code to first initialize a neural network without shortcut connections. Here, each layer will be initialized such that it accepts an example with 3 input values and returns 3 output values. The last layer returns a single output value:"
   ]
  },
  {
   "cell_type": "code",
   "execution_count": 58,
   "id": "7d0e2e55",
   "metadata": {},
   "outputs": [],
   "source": [
    "# Define layer dimensions\n",
    "layer_dims = [3, 3, 3, 3, 3, 1]\n",
    "\n",
    "# Create a sample input tensor\n",
    "test_input = torch.tensor([[1., 0., -1.]])\n",
    "\n",
    "# Set a manual seed for reproducibility\n",
    "torch.manual_seed(123)\n",
    "\n",
    "# Initialize the model without skip connections\n",
    "model_no_skip = DeepMLP(layer_dims, enable_skip_connection=False)\n"
   ]
  },
  {
   "cell_type": "markdown",
   "id": "040570c8",
   "metadata": {},
   "source": [
    "Next, we implement a function that computes the gradients in the the model's backward pass:"
   ]
  },
  {
   "cell_type": "code",
   "execution_count": 59,
   "id": "f49245cb",
   "metadata": {},
   "outputs": [],
   "source": [
    "def display_gradients(model, input_tensor):\n",
    "    # Forward pass\n",
    "    output_tensor = model(input_tensor)\n",
    "    expected_output = torch.tensor([[0.]])\n",
    "\n",
    "    # Compute loss based on the difference between predicted and expected output\n",
    "    criterion = nn.MSELoss()\n",
    "    loss_value = criterion(output_tensor, expected_output)\n",
    "    \n",
    "    # Backward pass to compute gradients\n",
    "    loss_value.backward()\n",
    "\n",
    "    for param_name, param_value in model.named_parameters():\n",
    "        if 'weight' in param_name:\n",
    "            # Print the mean absolute gradient of the weights\n",
    "            print(f\"{param_name} has a gradient mean of {param_value.grad.abs().mean().item()}\")\n"
   ]
  },
  {
   "cell_type": "markdown",
   "id": "87f5d1f6",
   "metadata": {},
   "source": [
    "In the preceding code, we specify a loss function that computes how close the model output and a user-specified target (here, for simplicity, the value 0) are.\n",
    "\n",
    "Then, when calling loss.backward(), PyTorch computes the loss gradient for each layer in the model.\n",
    "\n",
    "We can iterate through the weight parameters via model.named_parameters().\n",
    "\n",
    "Suppose we have a 3×3 weight parameter matrix for a given layer.\n",
    "\n",
    "In that case, this layer will have 3×3 gradient values, and we print the mean absolute gradient of these 3×3 gradient values to obtain a single gradient value per layer to compare the gradients between layers more easily."
   ]
  },
  {
   "cell_type": "code",
   "execution_count": 60,
   "id": "67f55efb",
   "metadata": {},
   "outputs": [
    {
     "name": "stdout",
     "output_type": "stream",
     "text": [
      "layers.0.0.weight has a gradient mean of 0.00020173587836325169\n",
      "layers.1.0.weight has a gradient mean of 0.0001201116101583466\n",
      "layers.2.0.weight has a gradient mean of 0.0007152041653171182\n",
      "layers.3.0.weight has a gradient mean of 0.001398873864673078\n",
      "layers.4.0.weight has a gradient mean of 0.005049646366387606\n"
     ]
    }
   ],
   "source": [
    "display_gradients(model_no_skip, test_input)"
   ]
  },
  {
   "cell_type": "markdown",
   "id": "2fe2d4f2",
   "metadata": {},
   "source": [
    "Lets instantiate the model with skip connections and see how it works"
   ]
  },
  {
   "cell_type": "code",
   "execution_count": 61,
   "id": "eee553ce",
   "metadata": {},
   "outputs": [
    {
     "name": "stdout",
     "output_type": "stream",
     "text": [
      "layers.0.0.weight has a gradient mean of 0.2216978669166565\n",
      "layers.1.0.weight has a gradient mean of 0.20694100856781006\n",
      "layers.2.0.weight has a gradient mean of 0.3289698660373688\n",
      "layers.3.0.weight has a gradient mean of 0.2665731906890869\n",
      "layers.4.0.weight has a gradient mean of 1.3258538246154785\n"
     ]
    }
   ],
   "source": [
    "# Set a manual seed for reproducibility\n",
    "torch.manual_seed(123)\n",
    "\n",
    "# Initialize the model with skip connections enabled\n",
    "model_with_skip = DeepMLP(layer_dims, enable_skip_connection=True)\n",
    "\n",
    "# Display gradients for the model with skip connections\n",
    "display_gradients(model_with_skip, test_input)"
   ]
  },
  {
   "cell_type": "markdown",
   "id": "a1d8f22c",
   "metadata": {},
   "source": [
    "### GPT ARCHITECTURE PART 5: CODING ATTENTION AND LINEAR LAYERS IN A TRANSFORMER BLOCK"
   ]
  },
  {
   "cell_type": "code",
   "execution_count": 62,
   "id": "2979fce5",
   "metadata": {},
   "outputs": [],
   "source": [
    "import torch\n",
    "import torch.nn as nn\n",
    "\n",
    "class TransformerLayer(nn.Module):\n",
    "    def __init__(self, config):\n",
    "        super().__init__()\n",
    "        self.attention = MultiHeadAttention(\n",
    "            d_in=config[\"embed_size\"],\n",
    "            d_out=config[\"embed_size\"],\n",
    "            context_length=config[\"seq_length\"],\n",
    "            num_heads=config[\"attn_heads\"], \n",
    "            dropout=config[\"dropout_prob\"],\n",
    "            qkv_bias=config[\"use_qkv_bias\"]\n",
    "        )\n",
    "        self.mlp = MLPBlock(config)\n",
    "        self.norm1 = NormLayer(config[\"embed_size\"])\n",
    "        self.norm2 = NormLayer(config[\"embed_size\"])\n",
    "        self.shortcut_dropout = nn.Dropout(config[\"dropout_prob\"])\n",
    "\n",
    "    def forward(self, input_tensor):\n",
    "        # Shortcut connection for attention block\n",
    "        residual = input_tensor\n",
    "        input_tensor = self.norm1(input_tensor)\n",
    "        input_tensor = self.attention(input_tensor)  # Shape: [batch_size, num_tokens, embed_size]\n",
    "        input_tensor = self.shortcut_dropout(input_tensor)\n",
    "        input_tensor = input_tensor + residual  # Add the original input back\n",
    "\n",
    "        # Shortcut connection for feedforward block\n",
    "        residual = input_tensor\n",
    "        input_tensor = self.norm2(input_tensor)\n",
    "        input_tensor = self.mlp(input_tensor)\n",
    "        input_tensor = self.shortcut_dropout(input_tensor)\n",
    "        input_tensor = input_tensor + residual  # Add the original input back\n",
    "\n",
    "        return input_tensor\n"
   ]
  },
  {
   "cell_type": "code",
   "execution_count": 63,
   "id": "f6ae1457",
   "metadata": {},
   "outputs": [],
   "source": [
    "class MultiHeadAttention(nn.Module):\n",
    "    def __init__(self, d_in, d_out, context_length, dropout, num_heads, qkv_bias=False):\n",
    "        super().__init__()\n",
    "        assert (d_out % num_heads == 0), \\\n",
    "            \"d_out must be divisible by num_heads\"\n",
    "\n",
    "        self.d_out = d_out\n",
    "        self.num_heads = num_heads\n",
    "        self.head_dim = d_out // num_heads # Reduce the projection dim to match desired output dim\n",
    "\n",
    "        self.W_query = nn.Linear(d_in, d_out, bias=qkv_bias)\n",
    "        self.W_key = nn.Linear(d_in, d_out, bias=qkv_bias)\n",
    "        self.W_value = nn.Linear(d_in, d_out, bias=qkv_bias)\n",
    "        self.out_proj = nn.Linear(d_out, d_out)  # Linear layer to combine head outputs\n",
    "        self.dropout = nn.Dropout(dropout)\n",
    "        self.register_buffer(\n",
    "            \"mask\",\n",
    "            torch.triu(torch.ones(context_length, context_length),\n",
    "                       diagonal=1)\n",
    "        )\n",
    "\n",
    "    def forward(self, x):\n",
    "        b, num_tokens, d_in = x.shape\n",
    "\n",
    "        keys = self.W_key(x) # Shape: (b, num_tokens, d_out)\n",
    "        queries = self.W_query(x)\n",
    "        values = self.W_value(x)\n",
    "\n",
    "        # We implicitly split the matrix by adding a `num_heads` dimension\n",
    "        # Unroll last dim: (b, num_tokens, d_out) -> (b, num_tokens, num_heads, head_dim)\n",
    "        keys = keys.view(b, num_tokens, self.num_heads, self.head_dim) \n",
    "        values = values.view(b, num_tokens, self.num_heads, self.head_dim)\n",
    "        queries = queries.view(b, num_tokens, self.num_heads, self.head_dim)\n",
    "\n",
    "        # Transpose: (b, num_tokens, num_heads, head_dim) -> (b, num_heads, num_tokens, head_dim)\n",
    "        keys = keys.transpose(1, 2)\n",
    "        queries = queries.transpose(1, 2)\n",
    "        values = values.transpose(1, 2)\n",
    "\n",
    "        # Compute scaled dot-product attention (aka self-attention) with a causal mask\n",
    "        attn_scores = queries @ keys.transpose(2, 3)  # Dot product for each head\n",
    "\n",
    "        # Original mask truncated to the number of tokens and converted to boolean\n",
    "        mask_bool = self.mask.bool()[:num_tokens, :num_tokens]\n",
    "\n",
    "        # Use the mask to fill attention scores\n",
    "        attn_scores.masked_fill_(mask_bool, -torch.inf)\n",
    "        \n",
    "        attn_weights = torch.softmax(attn_scores / keys.shape[-1]**0.5, dim=-1)\n",
    "        attn_weights = self.dropout(attn_weights)\n",
    "\n",
    "        # Shape: (b, num_tokens, num_heads, head_dim)\n",
    "        context_vec = (attn_weights @ values).transpose(1, 2) \n",
    "        \n",
    "        # Combine heads, where self.d_out = self.num_heads * self.head_dim\n",
    "        context_vec = context_vec.contiguous().view(b, num_tokens, self.d_out)\n",
    "        context_vec = self.out_proj(context_vec) # optional projection\n",
    "\n",
    "        return context_vec"
   ]
  },
  {
   "cell_type": "code",
   "execution_count": 64,
   "id": "7f5d2916",
   "metadata": {},
   "outputs": [
    {
     "name": "stdout",
     "output_type": "stream",
     "text": [
      "Input shape: torch.Size([2, 4, 768])\n",
      "Output shape: torch.Size([2, 4, 768])\n"
     ]
    }
   ],
   "source": [
    "# Set a manual seed for reproducibility\n",
    "torch.manual_seed(123)\n",
    "\n",
    "# Generate a random input tensor\n",
    "input_tensor = torch.rand(2, 4, 768)  # A\n",
    "\n",
    "# Initialize the transformer layer with the modified configuration\n",
    "transformer_layer = TransformerLayer(LLM_SETTINGS_124M)\n",
    "\n",
    "# Pass the input through the transformer layer\n",
    "output_tensor = transformer_layer(input_tensor)\n",
    "\n",
    "# Print input and output shapes\n",
    "print(\"Input shape:\", input_tensor.shape)\n",
    "print(\"Output shape:\", output_tensor.shape)"
   ]
  },
  {
   "cell_type": "markdown",
   "id": "1bc00713",
   "metadata": {},
   "source": [
    "### GPT ARCHITECTURE PART 6: ENTIRE GPT MODEL ARCHITECTURE IMPLEMENTATION"
   ]
  },
  {
   "cell_type": "code",
   "execution_count": 65,
   "id": "49f83fec",
   "metadata": {},
   "outputs": [],
   "source": [
    "import torch\n",
    "import torch.nn as nn\n",
    "\n",
    "class LLMModel(nn.Module):\n",
    "    def __init__(self, config):\n",
    "        super().__init__()\n",
    "        self.token_embed = nn.Embedding(config[\"token_count\"], config[\"embed_size\"])\n",
    "        self.position_embed = nn.Embedding(config[\"seq_length\"], config[\"embed_size\"])\n",
    "        self.embed_dropout = nn.Dropout(config[\"dropout_prob\"])\n",
    "        \n",
    "        self.transformer_layers = nn.Sequential(\n",
    "            *[TransformerLayer(config) for _ in range(config[\"num_layers\"])]\n",
    "        )\n",
    "        \n",
    "        self.final_layer_norm = NormLayer(config[\"embed_size\"])\n",
    "        self.output_layer = nn.Linear(\n",
    "            config[\"embed_size\"], config[\"token_count\"], bias=False\n",
    "        )\n",
    "\n",
    "    def forward(self, input_indices):\n",
    "        batch_size, seq_len = input_indices.shape\n",
    "        token_embeddings = self.token_embed(input_indices)\n",
    "        position_embeddings = self.position_embed(torch.arange(seq_len, device=input_indices.device))\n",
    "        x = token_embeddings + position_embeddings  # Shape [batch_size, num_tokens, embed_size]\n",
    "        x = self.embed_dropout(x)\n",
    "        x = self.transformer_layers(x)\n",
    "        x = self.final_layer_norm(x)\n",
    "        logits = self.output_layer(x)\n",
    "        return logits\n"
   ]
  },
  {
   "cell_type": "code",
   "execution_count": 66,
   "id": "b9de7ff6",
   "metadata": {},
   "outputs": [
    {
     "name": "stdout",
     "output_type": "stream",
     "text": [
      "Input batch:\n",
      " tensor([[6109, 3626, 6100,  345],\n",
      "        [6109, 1110, 6622,  257]])\n",
      "\n",
      "Output shape: torch.Size([2, 4, 50257])\n",
      "tensor([[[ 0.1381,  0.0077, -0.1963,  ..., -0.0222, -0.1060,  0.1717],\n",
      "         [ 0.3865, -0.8408, -0.6564,  ..., -0.5163,  0.2369, -0.3357],\n",
      "         [ 0.6989, -0.1829, -0.1631,  ...,  0.1472, -0.6504, -0.0056],\n",
      "         [-0.4290,  0.1669, -0.1258,  ...,  1.1579,  0.5303, -0.5549]],\n",
      "\n",
      "        [[ 0.1094, -0.2894, -0.1467,  ..., -0.0557,  0.2911, -0.2824],\n",
      "         [ 0.0882, -0.3552, -0.3527,  ...,  1.2930,  0.0053,  0.1898],\n",
      "         [ 0.6091,  0.4702, -0.4094,  ...,  0.7688,  0.3787, -0.1974],\n",
      "         [-0.0612, -0.0737,  0.4751,  ...,  1.2463, -0.3834,  0.0609]]],\n",
      "       grad_fn=<UnsafeViewBackward0>)\n"
     ]
    }
   ],
   "source": [
    "# Set manual seed for reproducibility\n",
    "torch.manual_seed(123)\n",
    "\n",
    "# Initialize the LLM model with the modified configuration\n",
    "llm_model = LLMModel(LLM_SETTINGS_124M)\n",
    "\n",
    "# Pass the tokenized batch through the model\n",
    "output_logits = llm_model(token_batches)\n",
    "\n",
    "# Print input and output details\n",
    "print(\"Input batch:\\n\", token_batches)\n",
    "print(\"\\nOutput shape:\", output_logits.shape)\n",
    "print(output_logits)\n"
   ]
  },
  {
   "cell_type": "code",
   "execution_count": 67,
   "id": "9b1d8684",
   "metadata": {},
   "outputs": [
    {
     "name": "stdout",
     "output_type": "stream",
     "text": [
      "Total number of parameters: 163,009,536\n"
     ]
    }
   ],
   "source": [
    "# Calculate the total number of parameters in the model\n",
    "total_parameters = sum(param.numel() for param in llm_model.parameters())\n",
    "\n",
    "# Print the total number of parameters with formatting\n",
    "print(f\"Total number of parameters: {total_parameters:,}\")"
   ]
  },
  {
   "cell_type": "code",
   "execution_count": 68,
   "id": "467a8e20",
   "metadata": {},
   "outputs": [
    {
     "name": "stdout",
     "output_type": "stream",
     "text": [
      "Token embedding layer shape: torch.Size([50257, 768])\n",
      "Output layer shape: torch.Size([50257, 768])\n"
     ]
    }
   ],
   "source": [
    "# Print the shape of the token embedding layer\n",
    "print(\"Token embedding layer shape:\", llm_model.token_embed.weight.shape)\n",
    "\n",
    "# Print the shape of the output layer\n",
    "print(\"Output layer shape:\", llm_model.output_layer.weight.shape)"
   ]
  },
  {
   "cell_type": "code",
   "execution_count": 71,
   "id": "881973d6",
   "metadata": {},
   "outputs": [
    {
     "name": "stdout",
     "output_type": "stream",
     "text": [
      "Number of trainable parameters considering weight tying: 124,412,160\n"
     ]
    }
   ],
   "source": [
    "# Calculate the total parameters excluding the output layer (weight tying consideration)\n",
    "total_params_excluding_output = total_parameters - sum(param.numel() for param in llm_model.output_layer.parameters())\n",
    "\n",
    "# Print the number of trainable parameters considering weight tying\n",
    "print(f\"Number of trainable parameters considering weight tying: {total_params_excluding_output:,}\")"
   ]
  },
  {
   "cell_type": "markdown",
   "id": "b385bdc2",
   "metadata": {},
   "source": [
    "As we can see, the model is now only 124 million parameters large, matching the original size of the GPT-2 model."
   ]
  },
  {
   "cell_type": "markdown",
   "id": "28168af2",
   "metadata": {},
   "source": [
    "### GPT ARCHITECTURE PART 7: GENERATING TEXT FROM OUTPUT TOKENS"
   ]
  },
  {
   "cell_type": "code",
   "execution_count": 72,
   "id": "b728e903",
   "metadata": {},
   "outputs": [],
   "source": [
    "def simple_text_generation(model, input_indices, max_tokens, context_window):\n",
    "    # input_indices is (batch, n_tokens) array representing the current context\n",
    "    for _ in range(max_tokens):\n",
    "        \n",
    "        # Truncate the context if it exceeds the supported context window\n",
    "        # E.g., if the LLM supports only 5 tokens, and the context is 10 tokens long,\n",
    "        # only the last 5 tokens are used for prediction\n",
    "        truncated_context = input_indices[:, -context_window:]\n",
    "        \n",
    "        # Get predictions from the model\n",
    "        with torch.no_grad():\n",
    "            output_logits = model(truncated_context)\n",
    "        \n",
    "        # Focus only on the last time step\n",
    "        # (batch, n_tokens, vocab_size) → (batch, vocab_size)\n",
    "        output_logits = output_logits[:, -1, :]  \n",
    "\n",
    "        # Apply softmax to get probabilities\n",
    "        probabilities = torch.softmax(output_logits, dim=-1)  # (batch, vocab_size)\n",
    "\n",
    "        # Get the index of the most probable token\n",
    "        next_token_index = torch.argmax(probabilities, dim=-1, keepdim=True)  # (batch, 1)\n",
    "\n",
    "        # Append the predicted token index to the sequence\n",
    "        input_indices = torch.cat((input_indices, next_token_index), dim=1)  # (batch, n_tokens+1)\n",
    "\n",
    "    return input_indices"
   ]
  },
  {
   "cell_type": "code",
   "execution_count": 73,
   "id": "45a0a8c1",
   "metadata": {},
   "outputs": [
    {
     "name": "stdout",
     "output_type": "stream",
     "text": [
      "Encoded: [15496, 11, 314, 716]\n",
      "Encoded tensor shape: torch.Size([1, 4])\n"
     ]
    }
   ],
   "source": [
    "# Define the starting context\n",
    "initial_text = \"Hello, I am\"\n",
    "\n",
    "# Encode the input text\n",
    "encoded_tokens = text_encoder.encode(initial_text)\n",
    "\n",
    "# Print the encoded token indices\n",
    "print(\"Encoded:\", encoded_tokens)\n",
    "\n",
    "# Convert to a tensor and add a batch dimension\n",
    "encoded_tensor = torch.tensor(encoded_tokens).unsqueeze(0)  # A\n",
    "\n",
    "# Print the shape of the encoded tensor\n",
    "print(\"Encoded tensor shape:\", encoded_tensor.shape)"
   ]
  },
  {
   "cell_type": "code",
   "execution_count": 74,
   "id": "4751aa98",
   "metadata": {},
   "outputs": [
    {
     "name": "stdout",
     "output_type": "stream",
     "text": [
      "Output: tensor([[15496,    11,   314,   716, 27018, 24086, 47843, 30961, 42348,  7267]])\n",
      "Output length: 10\n"
     ]
    }
   ],
   "source": [
    "# Set the model to evaluation mode\n",
    "llm_model.eval()\n",
    "\n",
    "# Generate text using the modified function\n",
    "generated_output = simple_text_generation(\n",
    "    model=llm_model,\n",
    "    input_indices=encoded_tensor,\n",
    "    max_tokens=6,\n",
    "    context_window=LLM_SETTINGS_124M[\"seq_length\"]\n",
    ")\n",
    "\n",
    "# Print the generated output tensor\n",
    "print(\"Output:\", generated_output)\n",
    "\n",
    "# Print the length of the generated sequence\n",
    "print(\"Output length:\", len(generated_output[0]))"
   ]
  },
  {
   "cell_type": "code",
   "execution_count": 75,
   "id": "d3d76d62",
   "metadata": {},
   "outputs": [
    {
     "name": "stdout",
     "output_type": "stream",
     "text": [
      "Hello, I am Featureiman Byeswickattribute argue\n"
     ]
    }
   ],
   "source": [
    "# Decode the generated token indices back into text\n",
    "decoded_text = text_encoder.decode(generated_output.squeeze(0).tolist())\n",
    "\n",
    "# Print the decoded text\n",
    "print(decoded_text)"
   ]
  },
  {
   "cell_type": "markdown",
   "id": "84c3496f",
   "metadata": {},
   "source": [
    "Based on the preceding output you can see that, the model generated outp, which is not at all coherent text. What happened? The reason why the model is unable to produce coherent text is that we haven't trained it yet."
   ]
  },
  {
   "cell_type": "code",
   "execution_count": null,
   "id": "afcc22cf",
   "metadata": {},
   "outputs": [],
   "source": []
  }
 ],
 "metadata": {
  "kernelspec": {
   "display_name": "Python 3 (ipykernel)",
   "language": "python",
   "name": "python3"
  },
  "language_info": {
   "codemirror_mode": {
    "name": "ipython",
    "version": 3
   },
   "file_extension": ".py",
   "mimetype": "text/x-python",
   "name": "python",
   "nbconvert_exporter": "python",
   "pygments_lexer": "ipython3",
   "version": "3.11.5"
  }
 },
 "nbformat": 4,
 "nbformat_minor": 5
}
